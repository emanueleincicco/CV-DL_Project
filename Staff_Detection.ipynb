{
  "nbformat": 4,
  "nbformat_minor": 0,
  "metadata": {
    "colab": {
      "name": "Staff Detection",
      "provenance": [],
      "collapsed_sections": [
        "C7nK5QOlk2bC",
        "rGEKfvuzVWtu",
        "RS78j07w4MLC",
        "geLSwlM3aYsf",
        "uh9yT-U8FZkI",
        "b9yWeahpr806",
        "EAjOIz9Fr14F",
        "0-_XktQn9_Bf",
        "ex9y-N4H3LYG"
      ]
    },
    "kernelspec": {
      "display_name": "Python 3",
      "name": "python3"
    },
    "language_info": {
      "name": "python"
    }
  },
  "cells": [
    {
      "cell_type": "markdown",
      "metadata": {
        "id": "C7nK5QOlk2bC"
      },
      "source": [
        "# Global Settings"
      ]
    },
    {
      "cell_type": "code",
      "metadata": {
        "id": "aoy6gtnQ4lup"
      },
      "source": [
        "#@title GLOBAL IMPORTS\n",
        "\n",
        "import numpy as np\n",
        "import matplotlib.pyplot as plt\n",
        "from pathlib import Path\n",
        "import cv2\n",
        "from google.colab.patches import cv2_imshow\n",
        "from PIL import Image\n",
        "import os\n",
        "import imutils\n",
        "import random\n",
        "import time\n",
        "import shutil\n",
        "from google.colab import drive"
      ],
      "execution_count": null,
      "outputs": []
    },
    {
      "cell_type": "code",
      "metadata": {
        "id": "M4H0ug6FeDBX"
      },
      "source": [
        "#@title GLOBAL PARAMS\n",
        "\n",
        "PARAMS = {\n",
        "    'GLOBAL': {\n",
        "        'aruco_folder': 'aruco'\n",
        "    },\n",
        "    'ARUCO_GEN': { # Aruco Generation Params\n",
        "        'out_dir_name': 'original_aruco',\n",
        "        'nr_of_aruco': 15,\n",
        "        'type_of_aruco': 'DICT_4X4_1000',\n",
        "        'aruco_width': 30,\n",
        "        'aruco_height': 30,\n",
        "        'aruco_border_size': 5 # ATT!! total dims: width=aruco_width + (2 * aruco_border_size), height=...\n",
        "    },\n",
        "    'ARUCO_TRANSF': { # Perspective Transformation Params\n",
        "        'out_dir_name': 'edited_aruco',\n",
        "        'nr_of_transformations': 5,\n",
        "        'reduct_fact_width': 1/2,\n",
        "        'reduct_fact_height': 2/7, #3/14\n",
        "        'range_brightness_alpha': [1, 1] , # gain\n",
        "        'range_brightness_beta': [-40, 100], # bias\n",
        "    },\n",
        "    'COCO_DATASET': { # COCO Dataset Params\n",
        "        'imgs_dir_name': 'coco/images'\n",
        "    },\n",
        "    'IMAGE_OVERLAY': { # Image Overlay Params\n",
        "        'dataset_path': 'dataset',\n",
        "        'labels_path': 'labels',\n",
        "        'imgs_path': 'images',\n",
        "        'canny_threshold1': 10,\n",
        "        'canny_threshold2': 100,\n",
        "        'nr_of_imgs_for_aruco': 20,\n",
        "        'range_images_size_width': [500, 700],\n",
        "        'range_images_size_height': [500, 700]\n",
        "    },\n",
        "    'DRIVE': {\n",
        "        'mount_drive_dir': '/content/drive',\n",
        "        'dest_dir': 'MyDrive/TestColab'\n",
        "    },\n",
        "}"
      ],
      "execution_count": null,
      "outputs": []
    },
    {
      "cell_type": "markdown",
      "metadata": {
        "id": "rGEKfvuzVWtu"
      },
      "source": [
        "# ArUco Generation in OpenCV"
      ]
    },
    {
      "cell_type": "code",
      "metadata": {
        "id": "pY0RG7ntjdAO"
      },
      "source": [
        "#@title ArUco Generation PARAMETERS\n",
        "name_of_directory = os.path.join(PARAMS['GLOBAL']['aruco_folder'], PARAMS['ARUCO_GEN']['out_dir_name'])\n",
        "nr_of_aruco = PARAMS['ARUCO_GEN']['nr_of_aruco']\n",
        "type_of_aruco = PARAMS['ARUCO_GEN']['type_of_aruco']\n",
        "aruco_width = PARAMS['ARUCO_GEN']['aruco_width'] # in number of pixels\n",
        "aruco_height = PARAMS['ARUCO_GEN']['aruco_height'] # in number of pixels\n",
        "bordersize = PARAMS['ARUCO_GEN']['aruco_border_size'] # in number of pixels"
      ],
      "execution_count": null,
      "outputs": []
    },
    {
      "cell_type": "markdown",
      "metadata": {
        "id": "RS78j07w4MLC"
      },
      "source": [
        "## Code"
      ]
    },
    {
      "cell_type": "code",
      "metadata": {
        "id": "a0rzGPi-VVnw"
      },
      "source": [
        "# define names of each possible ArUco tag OpenCV supports\n",
        "ARUCO_DICT = {\n",
        "\t\"DICT_4X4_50\": cv2.aruco.DICT_4X4_50,\n",
        "\t\"DICT_4X4_100\": cv2.aruco.DICT_4X4_100,\n",
        "\t\"DICT_4X4_250\": cv2.aruco.DICT_4X4_250,\n",
        "\t\"DICT_4X4_1000\": cv2.aruco.DICT_4X4_1000,\n",
        "\t\"DICT_5X5_50\": cv2.aruco.DICT_5X5_50,\n",
        "\t\"DICT_5X5_100\": cv2.aruco.DICT_5X5_100,\n",
        "\t\"DICT_5X5_250\": cv2.aruco.DICT_5X5_250,\n",
        "\t\"DICT_5X5_1000\": cv2.aruco.DICT_5X5_1000,\n",
        "\t\"DICT_6X6_50\": cv2.aruco.DICT_6X6_50,\n",
        "\t\"DICT_6X6_100\": cv2.aruco.DICT_6X6_100,\n",
        "\t\"DICT_6X6_250\": cv2.aruco.DICT_6X6_250,\n",
        "\t\"DICT_6X6_1000\": cv2.aruco.DICT_6X6_1000,\n",
        "\t\"DICT_7X7_50\": cv2.aruco.DICT_7X7_50,\n",
        "\t\"DICT_7X7_100\": cv2.aruco.DICT_7X7_100,\n",
        "\t\"DICT_7X7_250\": cv2.aruco.DICT_7X7_250,\n",
        "\t\"DICT_7X7_1000\": cv2.aruco.DICT_7X7_1000,\n",
        "\t\"DICT_ARUCO_ORIGINAL\": cv2.aruco.DICT_ARUCO_ORIGINAL,\n",
        "\t\"DICT_APRILTAG_16h5\": cv2.aruco.DICT_APRILTAG_16h5,\n",
        "\t\"DICT_APRILTAG_25h9\": cv2.aruco.DICT_APRILTAG_25h9,\n",
        "\t\"DICT_APRILTAG_36h10\": cv2.aruco.DICT_APRILTAG_36h10,\n",
        "\t\"DICT_APRILTAG_36h11\": cv2.aruco.DICT_APRILTAG_36h11\n",
        "}"
      ],
      "execution_count": null,
      "outputs": []
    },
    {
      "cell_type": "code",
      "metadata": {
        "id": "ooBzg2ue8RO_"
      },
      "source": [
        "!rm -R /content/aruco"
      ],
      "execution_count": null,
      "outputs": []
    },
    {
      "cell_type": "code",
      "metadata": {
        "id": "L4MoXwDOVbBs"
      },
      "source": [
        "# create the output directory\n",
        "Path(name_of_directory).mkdir(parents=True, exist_ok=True)\n",
        "\n",
        "# load the ArUco dictionary\n",
        "arucoDict = cv2.aruco.Dictionary_get(ARUCO_DICT[type_of_aruco])\n",
        "\n",
        "for arucoID in range(nr_of_aruco):\n",
        "  # allocate memory for the output ArUco tag\n",
        "  tag = np.zeros((aruco_width, aruco_height, 1), dtype=\"uint8\")\n",
        "  # draw the ArUco tag on the output image\n",
        "  cv2.aruco.drawMarker(arucoDict, arucoID, aruco_width, tag, 1)\n",
        "\n",
        "  # add white border\n",
        "  tag = cv2.copyMakeBorder(\n",
        "    tag,\n",
        "    top=bordersize,\n",
        "    bottom=bordersize,\n",
        "    left=bordersize,\n",
        "    right=bordersize,\n",
        "    borderType=cv2.BORDER_CONSTANT,\n",
        "    value=[255, 255, 255]) \n",
        "  \n",
        "  # write the generated ArUco tag to disk and then print it\n",
        "  cv2.imwrite(os.path.join(name_of_directory, f'aruco_{arucoID:02d}.jpg'), tag)\n",
        "  cv2_imshow(tag)\n",
        "  print(tag.shape)\n",
        "  print('\\n')\n"
      ],
      "execution_count": null,
      "outputs": []
    },
    {
      "cell_type": "markdown",
      "metadata": {
        "id": "geLSwlM3aYsf"
      },
      "source": [
        "# All ArUco Transformations"
      ]
    },
    {
      "cell_type": "code",
      "metadata": {
        "id": "uXnCtmOkqRDI"
      },
      "source": [
        "#@title OpenCV Transformations PARAMETERS\n",
        "out_dir = os.path.join(PARAMS['GLOBAL']['aruco_folder'], PARAMS['ARUCO_TRANSF']['out_dir_name'])\n",
        "reduct_fact_width = PARAMS['ARUCO_TRANSF']['reduct_fact_width']\n",
        "reduct_fact_height = PARAMS['ARUCO_TRANSF']['reduct_fact_height']\n",
        "nr_of_transf = PARAMS['ARUCO_TRANSF']['nr_of_transformations']\n",
        "range_brightness_alpha = PARAMS['ARUCO_TRANSF']['range_brightness_alpha']\n",
        "range_brightness_beta = PARAMS['ARUCO_TRANSF']['range_brightness_beta']"
      ],
      "execution_count": null,
      "outputs": []
    },
    {
      "cell_type": "code",
      "metadata": {
        "id": "rSnEoNNYcTMy"
      },
      "source": [
        "def perspective_transf(paper, reduct_fact_width, reduct_fact_height):\n",
        "  # read the ArUco width and height\n",
        "  paper_width, paper_height = paper.shape[:2]\n",
        "  # print(paper.shape[:2])\n",
        "  \n",
        "  # set the size of the result image \n",
        "  # out_width, out_height = paper_width, paper_height #ALTERNATIVA\n",
        "  out_width, out_height = paper_width + 10, paper_height + 10\n",
        "\n",
        "  # set the coordinates that we want to perspective transform (the coords of the whole image)\n",
        "  pts1 = np.float32([[0,0], [paper_width - 1 ,0], [paper_height - 1,paper_width - 1], [0, paper_height - 1]])\n",
        "\n",
        "  # size of the transformed image\n",
        "  new_width = round(paper_width * reduct_fact_width)\n",
        "  new_height = round(paper_height * reduct_fact_height)\n",
        "\n",
        "  # top left point\n",
        "  # tl_point_x = 0 #ALTERNATIVA\n",
        "  # tl_point_y = 0 #ALTERNATIVA\n",
        "  tl_point_x = round((out_width - paper_width)/2)\n",
        "  tl_point_y = round((out_height - paper_height)/2)\n",
        "  tl_point = [tl_point_x, tl_point_y]\n",
        "  # print(tl_point)\n",
        "\n",
        "  # top right point\n",
        "  tr_point_x = tl_point_x + (paper_width - 1)\n",
        "  tr_point_y = tl_point_y\n",
        "  tr_point = [tr_point_x, tr_point_y]\n",
        "  # print(tr_point)\n",
        "\n",
        "  # bottom left point\n",
        "  bl_point_x = tl_point_x + (round((paper_width - new_width) / 2)) - 1\n",
        "  bl_point_y = tl_point_y + (new_height - 1)\n",
        "  bl_point = [bl_point_x, bl_point_y]\n",
        "  # print(bl_point)\n",
        "\n",
        "  # bottom right point\n",
        "  br_point_x = bl_point_x + (new_width - 1)\n",
        "  br_point_y = bl_point_y\n",
        "  br_point = [br_point_x, br_point_y]\n",
        "  # print(br_point)\n",
        "\n",
        "  # edited_aruco = perspective_transf(original_aruco, np.float32([[10,20],[49,20],[39,35],[20,35]]))\n",
        "  pts2 = np.float32([tl_point, tr_point, br_point, bl_point])\n",
        "  # pts2 = np.float32([[4,4], [44,4], [34,13], [14,13]])\n",
        "  # pts2 = np.float32([[0, 0], [39, 0],[15, 15],[35, 15]])\n",
        "\n",
        "\n",
        "  # transformation matrix\n",
        "  M = cv2.getPerspectiveTransform(pts1, pts2)\n",
        "  # transform the original image\n",
        "  return cv2.warpPerspective(paper, M, (out_width, out_height))\n"
      ],
      "execution_count": null,
      "outputs": []
    },
    {
      "cell_type": "code",
      "metadata": {
        "id": "qdM-DSve7NLA"
      },
      "source": [
        "!rm -R /content/aruco/edited_aruco/"
      ],
      "execution_count": null,
      "outputs": []
    },
    {
      "cell_type": "code",
      "metadata": {
        "id": "YpHRklTK-9n5"
      },
      "source": [
        "def make_transf(orig_aruco, aruco_name, nr_of_transf, index):\n",
        "\n",
        "  if nr_of_transf == 0:\n",
        "    return\n",
        "  else:\n",
        "    # rotation transformation\n",
        "    rotation_angle = random.randrange(0, 360)\n",
        "    edited_aruco = imutils.rotate_bound(orig_aruco, rotation_angle)\n",
        "    # print transformed image\n",
        "    plt.title(f'Rotation transformation with angle={rotation_angle}')\n",
        "    plt.imshow(edited_aruco, cmap='gray')\n",
        "    plt.show()\n",
        "    print('\\n')\n",
        "    # save the edited ArUco\n",
        "    cv2.imwrite(os.path.join(out_dir_aruco, aruco_name[:-4] + '_' + f\"{index:02}\" + '.jpg'), edited_aruco)\n",
        "    index += 1\n",
        "    nr_of_transf -=1 \n",
        "\n",
        "  if nr_of_transf == 0:\n",
        "    return\n",
        "  else:\n",
        "    # random enable flip vertically and horizontally \n",
        "    if(bool(random.getrandbits(1))):\n",
        "      edited_aruco = cv2.flip(edited_aruco, -1)\n",
        "      # print transformed image\n",
        "      plt.title(f'Flip vertically AND horizontally transformation')\n",
        "      plt.imshow(edited_aruco, cmap='gray')\n",
        "      plt.show()\n",
        "      print('\\n')\n",
        "      # save the edited ArUco\n",
        "      cv2.imwrite(os.path.join(out_dir_aruco, aruco_name[:-4] + '_' + f\"{index:02}\" + '.jpg'), edited_aruco)\n",
        "      index += 1\n",
        "      nr_of_transf -= 1    \n",
        "\n",
        "  if nr_of_transf == 0:\n",
        "    return\n",
        "  else:\n",
        "    # random enable brightness changes\n",
        "    if(bool(random.getrandbits(1))):\n",
        "      alpha = random.randint(range_brightness_alpha[0], range_brightness_alpha[1])\n",
        "      beta = random.randint(range_brightness_beta[0], range_brightness_beta[1])\n",
        "      edited_aruco = cv2.convertScaleAbs(edited_aruco, alpha=alpha, beta=beta)\n",
        "      # print transformed image\n",
        "      plt.title(f'Brightness transformation with alpha={alpha} and beta={beta}')\n",
        "      plt.imshow(edited_aruco, cmap='gray')\n",
        "      plt.show()\n",
        "      print('\\n')\n",
        "      # save the edited ArUco\n",
        "      cv2.imwrite(os.path.join(out_dir_aruco, aruco_name[:-4] + '_' + f\"{index:02}\" + '.jpg'), edited_aruco)\n",
        "      index += 1\n",
        "      nr_of_transf -= 1  \n",
        "\n",
        "  if nr_of_transf == 0:\n",
        "    return\n",
        "  else:\n",
        "    make_transf(orig_aruco, aruco_name, nr_of_transf, index)\n"
      ],
      "execution_count": null,
      "outputs": []
    },
    {
      "cell_type": "code",
      "metadata": {
        "id": "QOniw8ngalTv"
      },
      "source": [
        "Path(out_dir).mkdir(parents=True, exist_ok=True)\n",
        "# read all ArUco filenames\n",
        "aruco_list = [f for f in os.listdir(name_of_directory) if os.path.isfile(os.path.join(name_of_directory,f))]\n",
        "\n",
        "# for each ArUco filename\n",
        "for aruco_name in aruco_list:\n",
        "  # create the output directory\n",
        "  # Path(os.path.join(out_dir, aruco_name[:-4])).mkdir(parents=True, exist_ok=True)\n",
        "  # out_dir_aruco = os.path.join(out_dir, aruco_name[:-4])\n",
        "  out_dir_aruco = out_dir\n",
        "\n",
        "\n",
        "  # read the ArUco\n",
        "  original_aruco = cv2.imread(os.path.join(name_of_directory, aruco_name), cv2.IMREAD_GRAYSCALE)\n",
        "  original_width, original_height = original_aruco.shape[:2]\n",
        "  # print the original image\n",
        "  plt.imshow(original_aruco, cmap='gray')\n",
        "  plt.title(f'Original ArUco {aruco_name[-6:-4]}')\n",
        "  plt.show()\n",
        "  print('\\n')\n",
        "\n",
        "  # perspective transformation\n",
        "  # edited_aruco = perspective_transf(original_aruco, np.float32([[10,20],[49,20],[39,35],[20,35]]))\n",
        "  edited_aruco = perspective_transf(original_aruco, reduct_fact_width, reduct_fact_height)\n",
        "\n",
        "  # print transformed image\n",
        "  plt.title(f'Perspective transformation')\n",
        "  plt.imshow(edited_aruco, cmap='gray')\n",
        "  plt.show()\n",
        "  print('\\n')\n",
        "  # save the edited ArUco\n",
        "  cv2.imwrite(os.path.join(out_dir_aruco, aruco_name[:-4] + '_00.jpg'), edited_aruco)\n",
        "\n",
        "  make_transf(edited_aruco, aruco_name, nr_of_transf, 1)\n",
        "\n"
      ],
      "execution_count": null,
      "outputs": []
    },
    {
      "cell_type": "markdown",
      "metadata": {
        "id": "uh9yT-U8FZkI"
      },
      "source": [
        "# Download COCO dataset"
      ]
    },
    {
      "cell_type": "code",
      "metadata": {
        "id": "7Beea1Mc90VR"
      },
      "source": [
        "#@title Download COCO dataset PARAMETERS\n",
        "images_dir_name = PARAMS['COCO_DATASET']['imgs_dir_name']"
      ],
      "execution_count": null,
      "outputs": []
    },
    {
      "cell_type": "markdown",
      "metadata": {
        "id": "b9yWeahpr806"
      },
      "source": [
        "### Download the COCO dataset images"
      ]
    },
    {
      "cell_type": "code",
      "metadata": {
        "id": "4BCXoY6YqIX2"
      },
      "source": [
        "!wget http://images.cocodataset.org/zips/train2017.zip\n",
        "!wget http://images.cocodataset.org/zips/val2017.zip\n",
        "# !wget http://images.cocodataset.org/annotations/annotations_trainval2017.zip"
      ],
      "execution_count": null,
      "outputs": []
    },
    {
      "cell_type": "markdown",
      "metadata": {
        "id": "EAjOIz9Fr14F"
      },
      "source": [
        "### Unzip downloaded zip files and remove them"
      ]
    },
    {
      "cell_type": "code",
      "metadata": {
        "id": "HrXsG1uFEGPu"
      },
      "source": [
        "path = os.path.join('/content', images_dir_name)\n",
        "Path(path).mkdir(parents=True, exist_ok=True)\n",
        "# path2 = os.path.join('/content', ann_dir_name)\n",
        "# Path(path2).mkdir(parents=True, exist_ok=True)\n",
        "\n",
        "!unzip /content/train2017.zip -d \"$path\"\n",
        "!unzip /content/val2017.zip -d \"$path\"\n",
        "# !unzip /content/annotations_trainval2017.zip -d \"$path2\"\n",
        "\n",
        "!rm /content/train2017.zip\n",
        "!rm /content/val2017.zip\n",
        "# !rm /content/annotations_trainval2017.zip"
      ],
      "execution_count": null,
      "outputs": []
    },
    {
      "cell_type": "markdown",
      "metadata": {
        "id": "0-_XktQn9_Bf"
      },
      "source": [
        "# All ArUco Overlay"
      ]
    },
    {
      "cell_type": "code",
      "metadata": {
        "id": "95WpGJT_4Wzb"
      },
      "source": [
        "#@title Overlay PARAMETERS\n",
        "dataset_path = PARAMS['IMAGE_OVERLAY']['dataset_path']\n",
        "labels_path = PARAMS['IMAGE_OVERLAY']['labels_path']\n",
        "imgs_path = PARAMS['IMAGE_OVERLAY']['imgs_path']\n",
        "canny_thld1 = PARAMS['IMAGE_OVERLAY']['canny_threshold1'] # first threshold for the hysteresis procedure\n",
        "canny_thld2 = PARAMS['IMAGE_OVERLAY']['canny_threshold2'] # second threshold for the hysteresis procedure\n",
        "images_dir_name = PARAMS['COCO_DATASET']['imgs_dir_name']\n",
        "nr_of_imgs_for_aruco = PARAMS['IMAGE_OVERLAY']['nr_of_imgs_for_aruco']\n",
        "imgs_width_range = PARAMS['IMAGE_OVERLAY']['range_images_size_width']\n",
        "imgs_height_range = PARAMS['IMAGE_OVERLAY']['range_images_size_height']"
      ],
      "execution_count": null,
      "outputs": []
    },
    {
      "cell_type": "code",
      "metadata": {
        "id": "XU6pmWNw7BBh"
      },
      "source": [
        "# create the output directories\n",
        "out_dir_imgs = os.path.join('/content', dataset_path, imgs_path)\n",
        "Path(out_dir_imgs).mkdir(parents=True, exist_ok=True)\n",
        "\n",
        "out_dir = os.path.join('/content', dataset_path, labels_path)\n",
        "Path(out_dir).mkdir(parents=True, exist_ok=True)"
      ],
      "execution_count": null,
      "outputs": []
    },
    {
      "cell_type": "code",
      "metadata": {
        "id": "S46pWoxfeLHV"
      },
      "source": [
        "def write_label(min_x, min_y, max_x, max_y, img_filename, img, x, y, aruco_filename):\n",
        "\n",
        "  # find center point, width and height of the bounding box\n",
        "  x_center = (min_x + (max_x - min_x) / 2) + x\n",
        "  y_center = (min_y + (max_y - min_y) / 2) + y\n",
        "  width_BB = (max_x - min_x)\n",
        "  height_BB = (max_y - min_y)\n",
        "\n",
        "  # normalize box coordinates and center point\n",
        "  x_center = x_center / img.shape[1]\n",
        "  y_center = y_center / img.shape[0]\n",
        "  width_BB = width_BB / img.shape[1]\n",
        "  height_BB = height_BB / img.shape[0]\n",
        "\n",
        "  # extract filename from the ArUco path\n",
        "  aruco_filename = os.path.basename(aruco_filename)\n",
        "  aruco_filename = os.path.splitext(aruco_filename)[0]\n",
        "\n",
        "  # extract filename from the image path\n",
        "  img_filename = os.path.basename(img_filename)\n",
        "  img_filename = os.path.splitext(img_filename)[0]\n",
        "  \n",
        "  # save the label file\n",
        "  with open(os.path.join(out_dir, img_filename + '.txt'), 'w') as f:\n",
        "    f.write(f'{aruco_filename[-5:-3]} {x_center} {y_center} {width_BB} {height_BB}')"
      ],
      "execution_count": null,
      "outputs": []
    },
    {
      "cell_type": "code",
      "metadata": {
        "id": "EeCrKwi3z9j_"
      },
      "source": [
        "def overlay_image_alpha(img, img_overlay, x, y, alpha_mask, img_filename, aruco_filename):\n",
        "    \"\"\"Overlay `img_overlay` onto `img` at (x, y) and blend using `alpha_mask`.\n",
        "\n",
        "    `alpha_mask` must have same HxW as `img_overlay` and values in range [0, 1].\n",
        "    \"\"\"\n",
        "    # Image ranges\n",
        "    y1, y2 = max(0, y), min(img.shape[0], y + img_overlay.shape[0])\n",
        "    x1, x2 = max(0, x), min(img.shape[1], x + img_overlay.shape[1])\n",
        "\n",
        "    # Overlay ranges\n",
        "    y1o, y2o = max(0, -y), min(img_overlay.shape[0], img.shape[0] - y)\n",
        "    x1o, x2o = max(0, -x), min(img_overlay.shape[1], img.shape[1] - x)\n",
        "\n",
        "    # Exit if nothing to do\n",
        "    if y1 >= y2 or x1 >= x2 or y1o >= y2o or x1o >= x2o:\n",
        "        return\n",
        "\n",
        "    # Blend overlay within the determined ranges\n",
        "    img_crop = img[y1:y2, x1:x2]\n",
        "    img_overlay_crop = img_overlay[y1o:y2o, x1o:x2o]\n",
        "    alpha = alpha_mask[y1o:y2o, x1o:x2o, np.newaxis]\n",
        "    np.set_printoptions(threshold=np.inf)\n",
        "    alpha_inv = 1.0 - alpha\n",
        "    # get the white pixels\n",
        "    indices = np.where(alpha_inv == 0)\n",
        "\n",
        "    # min x\n",
        "    x_min = np.amin(indices[1])\n",
        "    # min y\n",
        "    y_min = np.amin(indices[0])\n",
        "\n",
        "    # max x\n",
        "    x_max = np.amax(indices[1])\n",
        "    # max y\n",
        "    y_max = np.amax(indices[0])\n",
        "\n",
        "    # write the label\n",
        "    write_label(x_min, y_min, x_max, y_max, img_filename, img, x, y, aruco_filename)\n",
        "\n",
        "    img_crop[:] = alpha * img_overlay_crop + alpha_inv * img_crop\n",
        "\n",
        "    # cv2.rectangle(img_crop,(x_min,y_min),(x_max,y_max),(0,255,0),1)"
      ],
      "execution_count": null,
      "outputs": []
    },
    {
      "cell_type": "code",
      "metadata": {
        "id": "sVXDmTLlzyP5"
      },
      "source": [
        "def overlay(img_overlay_rgba, img, img_filename, aruco_filename):\n",
        "  \n",
        "  # ArUco width and height\n",
        "  img_width, img_height = img_overlay_rgba.shape[:2]\n",
        "  \n",
        "  # overlay point (x, y)\n",
        "  x, y = random.randint(0, img.shape[1] - img_width), random.randint(0, img.shape[0] - img_height)\n",
        "\n",
        "  # crop the original image\n",
        "  img_overlay_rgba = np.repeat(img_overlay_rgba.reshape((img_width, img_height, 1)), 4, axis=2)\n",
        "\n",
        "  # Perform blending\n",
        "  # alpha_mask = img_overlay_rgba[:, :, 1] / 255.0\n",
        "  # cv2_imshow(alpha_mask)\n",
        "  # img_result = img[:, :, :3].copy()\n",
        "  # img_overlay = img_overlay_rgba[:, :, :3]\n",
        "  # overlay_image_alpha(img_result, img_overlay, x, y, alpha_mask)\n",
        "\n",
        "  # find edges in the ArUco image\n",
        "  edges = cv2.Canny(img_overlay_rgba, canny_thld1, canny_thld2)\n",
        "  edges = cv2.dilate(edges, None)\n",
        "  edges = cv2.erode(edges, None)\n",
        "\n",
        "  #-- Find contours in edges, sort by area ---------------------------------------------\n",
        "  contour_info = []\n",
        "  contours, _ = cv2.findContours(edges, cv2.RETR_LIST, cv2.CHAIN_APPROX_NONE)\n",
        "\n",
        "  for c in contours:\n",
        "      contour_info.append((\n",
        "          c,\n",
        "          cv2.isContourConvex(c),\n",
        "          cv2.contourArea(c),\n",
        "      ))\n",
        "  contour_info = sorted(contour_info, key=lambda c: c[2], reverse=True)\n",
        "\n",
        "  # create an empty mask\n",
        "  mask = np.zeros(edges.shape)\n",
        "\n",
        "  # draw filled polygon on it corresponding to largest contour (mask is black, polygon is white)\n",
        "  for c in contour_info:\n",
        "      cv2.fillConvexPoly(mask, c[0], (255))\n",
        "\n",
        "\n",
        "  alpha_mask = mask / 255.0\n",
        "  img_result = img[:, :, :3].copy()\n",
        "  img_overlay = img_overlay_rgba[:, :, :3]\n",
        "\n",
        "  overlay_image_alpha(img_result, img_overlay, x, y, alpha_mask, img_filename, aruco_filename)\n",
        "\n",
        "  # show the result\n",
        "  # plt.imshow(img_result)\n",
        "  # plt.show()\n",
        "\n",
        "  # save the result\n",
        "  cv2.imwrite(os.path.join(out_dir_imgs, os.path.basename(img_filename)), cv2.cvtColor(img_result, cv2.COLOR_RGB2BGR))"
      ],
      "execution_count": null,
      "outputs": []
    },
    {
      "cell_type": "code",
      "metadata": {
        "id": "2tyuozfQ9dX0"
      },
      "source": [
        "# read all ArUco filenames from the corresponding folder\n",
        "name_of_directory = os.path.join(PARAMS['GLOBAL']['aruco_folder'], PARAMS['ARUCO_TRANSF']['out_dir_name'])\n",
        "aruco_list = [f for f in os.listdir(name_of_directory) if os.path.isfile(os.path.join(name_of_directory,f))]\n",
        "\n",
        "# read all images filenames from the corresponding folder\n",
        "name_of_directory_imgs = os.path.join('/content', images_dir_name, 'train2017')\n",
        "imgs_list = [f for f in os.listdir(name_of_directory_imgs) if os.path.isfile(os.path.join(name_of_directory_imgs,f))]\n",
        "\n",
        "# # download the sample image\n",
        "# !wget 'https://www.contentcustoms.com/assets/cms/uploads/images/New%20Images%20(Illustrations)/image-logo-design-services%20300x200.jpg' -O sample.jpg\n",
        "# # open the image and create a NumPy array\n",
        "# img = Image.open(os.path.join('/content', 'sample.jpg'))\n",
        "# img_array = np.array(img)\n",
        "# print(img_array.shape)\n",
        "\n",
        "print(len(aruco_list))\n",
        "print(len(imgs_list))\n",
        "\n",
        "# for each ArUco filename make the overlay\n",
        "for aruco_name in aruco_list:\n",
        "  # read the ArUco image and create a NumPy array\n",
        "  arucoImg = Image.open(os.path.join(name_of_directory, aruco_name))\n",
        "  aruco = np.array(arucoImg)\n",
        "  index = 0\n",
        "  # print(f'CICLO ESTERNO - {aruco_name}')\n",
        "  for image in imgs_list:\n",
        "    # print(f'CICLO INTERNO - {image}')\n",
        "\n",
        "    # open the image and create a NumPy array\n",
        "    img = Image.open(os.path.join(name_of_directory_imgs, image))\n",
        "    img_array = np.array(img)\n",
        "    img_x, img_y = img_array.shape[:2]\n",
        "\n",
        "    # remove the image from the images list\n",
        "    imgs_list.remove(image)\n",
        "    \n",
        "    # if image width and height are not in specified range, continue with next image\n",
        "    if img_x < imgs_width_range[0] or img_x > imgs_width_range[1] or img_y < imgs_height_range[0] or img_y > imgs_height_range[1]:\n",
        "      continue\n",
        "\n",
        "    # if the image is grayscale, continue with next image\n",
        "    if len(img_array.shape)<3:\n",
        "      continue\n",
        "\n",
        "    # increment number of processed imgs for current ArUco\n",
        "    index +=1\n",
        "\n",
        "    # if the number of processed imgs is greater than specified number, switch to next ArUco\n",
        "    if index > nr_of_imgs_for_aruco:\n",
        "      break\n",
        "\n",
        "    # make the overlay\n",
        "    overlay(aruco, img_array, img.filename, arucoImg.filename)"
      ],
      "execution_count": null,
      "outputs": []
    },
    {
      "cell_type": "markdown",
      "metadata": {
        "id": "ex9y-N4H3LYG"
      },
      "source": [
        "# Save dataset to Google Drive"
      ]
    },
    {
      "cell_type": "code",
      "metadata": {
        "id": "H1k4aZILyVQb"
      },
      "source": [
        "#@title Google Drive PARAMETERS\n",
        "drive_mount_dir = PARAMS['DRIVE']['mount_drive_dir']\n",
        "dest_dir = PARAMS['DRIVE']['dest_dir']\n",
        "dataset_path = PARAMS['IMAGE_OVERLAY']['dataset_path']"
      ],
      "execution_count": null,
      "outputs": []
    },
    {
      "cell_type": "code",
      "metadata": {
        "id": "nkDoP3LA3nAo"
      },
      "source": [
        "# mount Google Drive\n",
        "drive.mount(drive_mount_dir)\n",
        "\n",
        "# save to Google Drive\n",
        "dt = time.strftime(\"%Y_%m_%d_%H_%M\")\n",
        "\n",
        "src = os.path.join('/content', dataset_path)\n",
        "dest = os.path.join(drive_mount_dir, dest_dir, dt) \n",
        "\n",
        "shutil.copytree(src, dest)"
      ],
      "execution_count": null,
      "outputs": []
    },
    {
      "cell_type": "code",
      "metadata": {
        "id": "Mo_uxlWi5Dx6"
      },
      "source": [
        "# unmount Google Drive\n",
        "drive.flush_and_unmount()"
      ],
      "execution_count": null,
      "outputs": []
    }
  ]
}